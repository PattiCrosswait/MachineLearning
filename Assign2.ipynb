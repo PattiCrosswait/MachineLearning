{
 "cells": [
  {
   "cell_type": "markdown",
   "metadata": {},
   "source": [
    "Q1) Load the dataset into a pandas dataframe and display the first 5 lines of the dataset along with the column headings."
   ]
  },
  {
   "cell_type": "code",
   "execution_count": 1,
   "metadata": {},
   "outputs": [
    {
     "data": {
      "text/html": [
       "<div>\n",
       "<style scoped>\n",
       "    .dataframe tbody tr th:only-of-type {\n",
       "        vertical-align: middle;\n",
       "    }\n",
       "\n",
       "    .dataframe tbody tr th {\n",
       "        vertical-align: top;\n",
       "    }\n",
       "\n",
       "    .dataframe thead th {\n",
       "        text-align: right;\n",
       "    }\n",
       "</style>\n",
       "<table border=\"1\" class=\"dataframe\">\n",
       "  <thead>\n",
       "    <tr style=\"text-align: right;\">\n",
       "      <th></th>\n",
       "      <th>region</th>\n",
       "      <th>tenure</th>\n",
       "      <th>age</th>\n",
       "      <th>marital</th>\n",
       "      <th>address</th>\n",
       "      <th>income</th>\n",
       "      <th>ed</th>\n",
       "      <th>employ</th>\n",
       "      <th>retire</th>\n",
       "      <th>gender</th>\n",
       "      <th>reside</th>\n",
       "      <th>custcat</th>\n",
       "    </tr>\n",
       "  </thead>\n",
       "  <tbody>\n",
       "    <tr>\n",
       "      <th>0</th>\n",
       "      <td>2</td>\n",
       "      <td>13</td>\n",
       "      <td>44</td>\n",
       "      <td>1</td>\n",
       "      <td>9</td>\n",
       "      <td>64.0</td>\n",
       "      <td>4</td>\n",
       "      <td>5</td>\n",
       "      <td>0.0</td>\n",
       "      <td>0</td>\n",
       "      <td>2</td>\n",
       "      <td>1</td>\n",
       "    </tr>\n",
       "    <tr>\n",
       "      <th>1</th>\n",
       "      <td>3</td>\n",
       "      <td>11</td>\n",
       "      <td>33</td>\n",
       "      <td>1</td>\n",
       "      <td>7</td>\n",
       "      <td>136.0</td>\n",
       "      <td>5</td>\n",
       "      <td>5</td>\n",
       "      <td>0.0</td>\n",
       "      <td>0</td>\n",
       "      <td>6</td>\n",
       "      <td>4</td>\n",
       "    </tr>\n",
       "    <tr>\n",
       "      <th>2</th>\n",
       "      <td>3</td>\n",
       "      <td>68</td>\n",
       "      <td>52</td>\n",
       "      <td>1</td>\n",
       "      <td>24</td>\n",
       "      <td>116.0</td>\n",
       "      <td>1</td>\n",
       "      <td>29</td>\n",
       "      <td>0.0</td>\n",
       "      <td>1</td>\n",
       "      <td>2</td>\n",
       "      <td>3</td>\n",
       "    </tr>\n",
       "    <tr>\n",
       "      <th>3</th>\n",
       "      <td>2</td>\n",
       "      <td>33</td>\n",
       "      <td>33</td>\n",
       "      <td>0</td>\n",
       "      <td>12</td>\n",
       "      <td>33.0</td>\n",
       "      <td>2</td>\n",
       "      <td>0</td>\n",
       "      <td>0.0</td>\n",
       "      <td>1</td>\n",
       "      <td>1</td>\n",
       "      <td>1</td>\n",
       "    </tr>\n",
       "    <tr>\n",
       "      <th>4</th>\n",
       "      <td>2</td>\n",
       "      <td>23</td>\n",
       "      <td>30</td>\n",
       "      <td>1</td>\n",
       "      <td>9</td>\n",
       "      <td>30.0</td>\n",
       "      <td>1</td>\n",
       "      <td>2</td>\n",
       "      <td>0.0</td>\n",
       "      <td>0</td>\n",
       "      <td>4</td>\n",
       "      <td>3</td>\n",
       "    </tr>\n",
       "  </tbody>\n",
       "</table>\n",
       "</div>"
      ],
      "text/plain": [
       "   region  tenure  age  marital  address  income  ed  employ  retire  gender  \\\n",
       "0       2      13   44        1        9    64.0   4       5     0.0       0   \n",
       "1       3      11   33        1        7   136.0   5       5     0.0       0   \n",
       "2       3      68   52        1       24   116.0   1      29     0.0       1   \n",
       "3       2      33   33        0       12    33.0   2       0     0.0       1   \n",
       "4       2      23   30        1        9    30.0   1       2     0.0       0   \n",
       "\n",
       "   reside  custcat  \n",
       "0       2        1  \n",
       "1       6        4  \n",
       "2       2        3  \n",
       "3       1        1  \n",
       "4       4        3  "
      ]
     },
     "execution_count": 1,
     "metadata": {},
     "output_type": "execute_result"
    }
   ],
   "source": [
    "import numpy as np \n",
    "import matplotlib.pyplot as plt \n",
    "import pandas as pd\n",
    "\n",
    "#Loading the dataset \n",
    "dataset = pd.read_csv('data.csv')\n",
    "dataset.head(n=5)"
   ]
  },
  {
   "cell_type": "markdown",
   "metadata": {},
   "source": [
    "Q2) Display the number of instances for each class. That is, you should write code to find out how many instances you have for class 1, class 2, class 3, and class 4."
   ]
  },
  {
   "cell_type": "code",
   "execution_count": 2,
   "metadata": {},
   "outputs": [
    {
     "data": {
      "text/plain": [
       "3    281\n",
       "1    266\n",
       "4    236\n",
       "2    217\n",
       "Name: custcat, dtype: int64"
      ]
     },
     "execution_count": 2,
     "metadata": {},
     "output_type": "execute_result"
    }
   ],
   "source": [
    "dataset.custcat.value_counts()"
   ]
  },
  {
   "cell_type": "markdown",
   "metadata": {},
   "source": [
    "Q3) Create histograms of columns age and income to visually explore their distributions."
   ]
  },
  {
   "cell_type": "code",
   "execution_count": 3,
   "metadata": {},
   "outputs": [
    {
     "data": {
      "text/plain": [
       "array([[<matplotlib.axes._subplots.AxesSubplot object at 0x000001375FC0E3C8>]],\n",
       "      dtype=object)"
      ]
     },
     "execution_count": 3,
     "metadata": {},
     "output_type": "execute_result"
    },
    {
     "data": {
      "image/png": "[encoded data removed]",
      "text/plain": [
       "<Figure size 432x288 with 1 Axes>"
      ]
     },
     "metadata": {
      "needs_background": "light"
     },
     "output_type": "display_data"
    },
    {
     "data": {
      "image/png": "[encoded data removed]",
      "text/plain": [
       "<Figure size 432x288 with 1 Axes>"
      ]
     },
     "metadata": {
      "needs_background": "light"
     },
     "output_type": "display_data"
    }
   ],
   "source": [
    "dataset.hist(column = 'age')\n",
    "dataset.hist(column = 'income')"
   ]
  },
  {
   "cell_type": "markdown",
   "metadata": {},
   "source": [
    "Q5) Split the dataset into training (80%) and testing set (20%). "
   ]
  },
  {
   "cell_type": "code",
   "execution_count": 4,
   "metadata": {},
   "outputs": [],
   "source": [
    "X = dataset.iloc[:,:-1].values \n",
    "y = dataset.iloc[:,11].values\n",
    "\n",
    "#Splitting the data into Training Set and Test Set \n",
    "from sklearn.model_selection import train_test_split \n",
    "X_train, X_test, y_train, y_test = train_test_split(X,y,test_size=0.2,random_state=0)"
   ]
  },
  {
   "cell_type": "markdown",
   "metadata": {},
   "source": [
    "Q4) Perform normalization of the data using standardization."
   ]
  },
  {
   "cell_type": "code",
   "execution_count": 5,
   "metadata": {},
   "outputs": [],
   "source": [
    "#Normalizing the features \n",
    "from sklearn.preprocessing import StandardScaler \n",
    "sc_X = StandardScaler() \n",
    "X_train = sc_X.fit_transform(X_train) \n",
    "X_test = sc_X.transform(X_test)"
   ]
  },
  {
   "cell_type": "markdown",
   "metadata": {},
   "source": [
    "Q6) Model 1: Fit a logistic regression model. What is the testing misclassification rate you get?"
   ]
  },
  {
   "cell_type": "code",
   "execution_count": 6,
   "metadata": {},
   "outputs": [
    {
     "data": {
      "text/plain": [
       "0.605"
      ]
     },
     "execution_count": 6,
     "metadata": {},
     "output_type": "execute_result"
    }
   ],
   "source": [
    "#Fitting Logistic Regression to Training Set \n",
    "from sklearn.linear_model import LogisticRegression \n",
    "classifierObj = LogisticRegression(random_state=0) \n",
    "classifierObj.fit(X_train, y_train)\n",
    "\n",
    "#Making predictions on the Test Set\n",
    "y_pred = classifierObj.predict(X_test)\n",
    "\n",
    "from sklearn.metrics import accuracy_score\n",
    "\n",
    "accuracy = accuracy_score(y_test, y_pred)\n",
    "error_rate = 1 - accuracy\n",
    "error_rate\n"
   ]
  },
  {
   "cell_type": "markdown",
   "metadata": {},
   "source": [
    "Q7) Model 2: We will now fit k-NN. However for k-NN you need to specify the value for k. In order to figure that out, run k-NN with different values of k and compute the testing misclassification rate. Plot a chart with k on X-axis and testing error on the Y-axis. What is the lowest value of testing error and corresponding value of k?"
   ]
  },
  {
   "cell_type": "code",
   "execution_count": 7,
   "metadata": {},
   "outputs": [
    {
     "name": "stdout",
     "output_type": "stream",
     "text": [
      "[0.775, 0.74, 0.7150000000000001, 0.7, 0.69, 0.69, 0.665, 0.6599999999999999, 0.665, 0.645, 0.655, 0.655, 0.665, 0.6699999999999999, 0.6699999999999999, 0.675, 0.675, 0.7050000000000001, 0.71, 0.6950000000000001, 0.7050000000000001, 0.69, 0.6799999999999999, 0.675, 0.69]\n"
     ]
    },
    {
     "data": {
      "text/plain": [
       "Text(0,0.5,'Testing Error')"
      ]
     },
     "execution_count": 7,
     "metadata": {},
     "output_type": "execute_result"
    },
    {
     "data": {
      "image/png": "[encoded data removed]",
      "text/plain": [
       "<Figure size 432x288 with 1 Axes>"
      ]
     },
     "metadata": {
      "needs_background": "light"
     },
     "output_type": "display_data"
    }
   ],
   "source": [
    "# import Matplotlib (scientific plotting library)\n",
    "import matplotlib.pyplot as plt\n",
    "from sklearn import metrics\n",
    "from sklearn.neighbors import KNeighborsClassifier\n",
    "# try K=1 through K=25 and record testing accuracy\n",
    "k_range = range(1, 26)\n",
    "\n",
    "# We can create Python dictionary using [] or dict()\n",
    "error_rates = []\n",
    "\n",
    "# We use a loop through the range 1 to 26\n",
    "# We append the scores in the dictionary\n",
    "for k in k_range:\n",
    "    knn = KNeighborsClassifier(n_neighbors=k, p=2, metric='minkowski')\n",
    "    knn.fit(X_train, y_train)\n",
    "    y_pred = knn.predict(X_test)\n",
    "    accuracy = metrics.accuracy_score(y_test, y_pred)\n",
    "    error_rates.append(1-accuracy)\n",
    "\n",
    "print(error_rates)\n",
    "\n",
    "# allow plots to appear within the notebook\n",
    "%matplotlib inline\n",
    "\n",
    "# plot the relationship between K and testing accuracy\n",
    "plt.plot(k_range, error_rates)\n",
    "plt.xlabel('Value of K for KNN')\n",
    "plt.ylabel('Testing Error')\n"
   ]
  },
  {
   "cell_type": "markdown",
   "metadata": {},
   "source": [
    ".645 k = 10"
   ]
  },
  {
   "cell_type": "markdown",
   "metadata": {},
   "source": [
    "Q8) Model 3: Fit SVM model with different kernels. Which kernel gives the least testing error?"
   ]
  },
  {
   "cell_type": "code",
   "execution_count": 8,
   "metadata": {},
   "outputs": [
    {
     "name": "stdout",
     "output_type": "stream",
     "text": [
      "error_rate_linear: 0.61\n",
      "error_rate_poly: 0.63\n",
      "error_rate_sigmoid: 0.665\n"
     ]
    }
   ],
   "source": [
    "#Fitting Classifier to Training Set. Create a classifier object here and call it classifierObj \n",
    "from sklearn.svm import SVC \n",
    "from sklearn.metrics import accuracy_score\n",
    "\n",
    "classifierObj = SVC(kernel='linear') \n",
    "classifierObj.fit(X_train, y_train)\n",
    "#Making predictions on the Test Set \n",
    "y_pred = classifierObj.predict(X_test)\n",
    "\n",
    "accuracy_linear = accuracy_score(y_test, y_pred)\n",
    "error_rate_linear = 1 - accuracy_linear\n",
    "print('error_rate_linear: ' + str(error_rate_linear))\n",
    "#########################################################\n",
    "#Fitting Classifier to Training Set. Create a classifier object here and call it classifierObj \n",
    "classifierObj = SVC(kernel='poly', degree=3) \n",
    "classifierObj.fit(X_train, y_train)\n",
    "#Making predictions on the Test Set \n",
    "y_pred = classifierObj.predict(X_test)\n",
    "\n",
    "accuracy_poly = accuracy_score(y_test, y_pred)\n",
    "error_rate_poly = 1 - accuracy_poly\n",
    "print('error_rate_poly: ' + str(error_rate_poly))\n",
    "#########################################################\n",
    "classifierObj = SVC(kernel='sigmoid') \n",
    "classifierObj.fit(X_train, y_train)\n",
    "#Making predictions on the Test Set \n",
    "y_pred = classifierObj.predict(X_test)\n",
    "                    \n",
    "accuracy_sigmoid = accuracy_score(y_test, y_pred)\n",
    "error_rate_sigmoid = 1 - accuracy_sigmoid\n",
    "print('error_rate_sigmoid: ' + str(error_rate_sigmoid))\n",
    "#the linear kernel has the least testing error"
   ]
  },
  {
   "cell_type": "markdown",
   "metadata": {},
   "source": [
    "Q9) Model 4: Fit Naïve Bayes model. What is the testing error you get? "
   ]
  },
  {
   "cell_type": "code",
   "execution_count": 9,
   "metadata": {},
   "outputs": [
    {
     "data": {
      "text/plain": [
       "0.6"
      ]
     },
     "execution_count": 9,
     "metadata": {},
     "output_type": "execute_result"
    }
   ],
   "source": [
    "#Fitting Classifier to Training Set. Create a classifier object here and call it classifierObj \n",
    "from sklearn.naive_bayes import GaussianNB \n",
    "classifierObj = GaussianNB() \n",
    "classifierObj.fit(X_train, y_train)\n",
    "\n",
    "#Making predictions on the Test Set \n",
    "y_pred = classifierObj.predict(X_test)\n",
    "\n",
    "accuracy = accuracy_score(y_test, y_pred)\n",
    "error_rate = 1 - accuracy\n",
    "error_rate"
   ]
  },
  {
   "cell_type": "markdown",
   "metadata": {},
   "source": [
    "Q10) Model 5: Fit Random Forest model. For Random Forest, you need to specify the number of trees (n_estimators). In order to figure that out, run Random Forest with different values of n_estimators and compute the testing misclassification rate. Plot a chart with n_estimators on X-axis and testing error on the Y-axis. What is the lowest value of testing error and corresponding value of n_estimators"
   ]
  },
  {
   "cell_type": "code",
   "execution_count": 10,
   "metadata": {},
   "outputs": [
    {
     "name": "stderr",
     "output_type": "stream",
     "text": [
      "C:\\Users\\pcrosswait.ATEK\\AppData\\Local\\Continuum\\anaconda3\\lib\\site-packages\\sklearn\\ensemble\\weight_boosting.py:29: DeprecationWarning: numpy.core.umath_tests is an internal NumPy module and should not be imported. It will be removed in a future NumPy release.\n",
      "  from numpy.core.umath_tests import inner1d\n"
     ]
    },
    {
     "name": "stdout",
     "output_type": "stream",
     "text": [
      "[0.72, 0.64, 0.6699999999999999, 0.7050000000000001, 0.65, 0.635, 0.645, 0.69, 0.615, 0.6799999999999999, 0.6599999999999999, 0.635, 0.665, 0.625, 0.62, 0.62, 0.6799999999999999, 0.665, 0.645, 0.625, 0.6699999999999999, 0.655, 0.615, 0.655, 0.64, 0.655, 0.645, 0.64, 0.665]\n",
      "range(1, 30)\n"
     ]
    },
    {
     "data": {
      "text/plain": [
       "Text(0,0.5,'Testing Error')"
      ]
     },
     "execution_count": 10,
     "metadata": {},
     "output_type": "execute_result"
    },
    {
     "data": {
      "image/png": "[encoded data removed]",
      "text/plain": [
       "<Figure size 432x288 with 1 Axes>"
      ]
     },
     "metadata": {
      "needs_background": "light"
     },
     "output_type": "display_data"
    }
   ],
   "source": [
    "#Fitting Classifier to Training Set. Create a classifier object here and call it classifierObj \n",
    "from sklearn.ensemble import RandomForestClassifier \n",
    "# try K=1 through K=25 and record testing accuracy\n",
    "n_range = range(1, 30)\n",
    "\n",
    "# We can create Python dictionary using [] or dict()\n",
    "error_rates_randomforest = []\n",
    "\n",
    "# We use a loop through the range 1 to 30\n",
    "# We append the scores in the dictionary\n",
    "for n in n_range:\n",
    "    classifierObj = RandomForestClassifier(n_estimators=n, criterion='entropy') \n",
    "    classifierObj.fit(X_train, y_train)\n",
    "    y_pred = classifierObj.predict(X_test)\n",
    "    accuracy = metrics.accuracy_score(y_test, y_pred)\n",
    "    error_rates_randomforest.append(1-accuracy)\n",
    "\n",
    "print(error_rates_randomforest)\n",
    "print(n_range)\n",
    "\n",
    "# allow plots to appear within the notebook\n",
    "%matplotlib inline\n",
    "\n",
    "# plot the relationship between K and testing accuracy\n",
    "plt.plot(n_range, error_rates_randomforest)\n",
    "plt.xlabel('n_estimators')\n",
    "plt.ylabel('Testing Error')"
   ]
  },
  {
   "cell_type": "markdown",
   "metadata": {},
   "source": [
    "n_estimator = 4, testing error = .605"
   ]
  },
  {
   "cell_type": "markdown",
   "metadata": {},
   "source": [
    "Q11) Predicting with Ensemble: Now that you have built 5 models. Loop over the testing set. For every test instance, have each of the models predict the class label. Eventual class predicted will be based on a majority vote of the 5 models. What is the testing misclassification rate you get with the ensemble model?"
   ]
  },
  {
   "cell_type": "code",
   "execution_count": null,
   "metadata": {},
   "outputs": [],
   "source": [
    "i = len(X_test)\n",
    "j=0\n",
    "while (j<i):\n",
    "\n",
    "    #Logistic\n",
    "    classifierObj = LogisticRegression(random_state=0)\n",
    "    classifierObj.fit(X_train, y_train)\n",
    "    #Making preditions on the Test Set\n",
    "    Log_pred= classifierObj.predict(X_test)\n",
    "\n",
    "    #Fitting kNN to Training Set\n",
    "    classifierObj = KNeighborsClassifier(n_neighbors=10, p=2, metric='minkowski')\n",
    "    classifierObj.fit(X_train, y_train)\n",
    "    #Making preditions on the Test Set\n",
    "    knn_pred= classifierObj.predict(X_test)\n",
    "\n",
    "    #Fitting SVC to Training Set\n",
    "    classifierObj = SVC(kernel='linear')\n",
    "    classifierObj.fit(X_train, y_train)\n",
    "    #Making preditions on the Test Set\n",
    "    sc_pred= classifierObj.predict(X_test)\n",
    "\n",
    "    #Fitting Naive Bayes to Training Set\n",
    "    classifierObj= GaussianNB()\n",
    "    classifierObj.fit(X_train, y_train)\n",
    "    #Making preditions on the Test Set\n",
    "    n_pred= classifierObj.predict(X_test)\n",
    "\n",
    "    #Fitting Random Forest to Training Set\n",
    "    classifierObj= RandomForestClassifier(n_estimators=8, criterion='entropy')\n",
    "    classifierObj.fit(X_train,y_train)\n",
    "    #Making preditions on the Test Set\n",
    "    rf_pred= classifierObj.predict(X_test)\n",
    "\n",
    "#List of every model's predictions\n",
    "predictions = (Log_pred, knn_pred, sc_pred, n_pred, rf_pred)\n",
    "\n",
    "#Find most common prediction\n",
    "mode = max(set(predictions, key=predictions.count))\n",
    "\n",
    "#Appending most common prediction\n",
    "ensemble_predictions.append(mode)\n",
    "\n",
    "#Confusion matrix\n",
    "cm(y_test, ensemble_predictions)\n",
    "cm"
   ]
  },
  {
   "cell_type": "code",
   "execution_count": null,
   "metadata": {},
   "outputs": [],
   "source": []
  }
 ],
 "metadata": {
  "kernelspec": {
   "display_name": "Python 3",
   "language": "python",
   "name": "python3"
  },
  "language_info": {
   "codemirror_mode": {
    "name": "ipython",
    "version": 3
   },
   "file_extension": ".py",
   "mimetype": "text/x-python",
   "name": "python",
   "nbconvert_exporter": "python",
   "pygments_lexer": "ipython3",
   "version": "3.7.0"
  }
 },
 "nbformat": 4,
 "nbformat_minor": 2
}
